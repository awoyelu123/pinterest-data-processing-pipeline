{
 "cells": [
  {
   "cell_type": "code",
   "execution_count": null,
   "metadata": {},
   "outputs": [],
   "source": []
  },
  {
   "cell_type": "code",
   "execution_count": null,
   "metadata": {},
   "outputs": [],
   "source": [
    "from kafka import KafkaAdminClient\n",
    "from kafka.admin import NewTopic\n",
    "from kafka.cluster import ClusterMetadata\n",
    "\n",
    "# Create a new Kafka client to adminstrate our Kafka broker\n",
    "admin_client = KafkaAdminClient(\n",
    "    bootstrap_servers=\"localhost:9092\", \n",
    "    client_id=\"Kafka Administrator\"\n",
    ")\n",
    "\n",
    "admin_client.list_topics()"
   ]
  },
  {
   "cell_type": "code",
   "execution_count": null,
   "metadata": {},
   "outputs": [],
   "source": [
    "admin_client.describe_topics(topics=[\"aicore_topic\"])"
   ]
  },
  {
   "cell_type": "code",
   "execution_count": null,
   "metadata": {},
   "outputs": [],
   "source": []
  },
  {
   "cell_type": "code",
   "execution_count": 1,
   "metadata": {},
   "outputs": [
    {
     "name": "stdout",
     "output_type": "stream",
     "text": [
      "Data sent to S3!\n"
     ]
    }
   ],
   "source": [
    "import credentials\n",
    "import boto3\n",
    "import json\n",
    "from botocore.client import Config\n",
    "'''\n",
    "Uploads raw data to S3\n",
    "'''\n",
    "ACCESS_SECRET_KEY = credentials.AWSSecretKey\n",
    "ACCESS_KEY_ID = credentials.AWSAccessKeyId\n",
    "BUCKET_NAME = 'pintrest-data-b5d598e8-12fd-488f-8e22-215f5936044'\n",
    "\n",
    "data=open('testing.json','rb')\n",
    "\n",
    "s3 = boto3.resource(\n",
    "    's3',\n",
    "    aws_access_key_id = ACCESS_KEY_ID,\n",
    "    aws_secret_access_key = ACCESS_SECRET_KEY,\n",
    "    config = Config(signature_version = 's3v4'))\n",
    "s3.Bucket(BUCKET_NAME).put_object(Key = 'testing.json', Body = data)\n",
    "print(\"Data sent to S3!\")"
   ]
  },
  {
   "cell_type": "code",
   "execution_count": 9,
   "metadata": {},
   "outputs": [
    {
     "data": {
      "text/plain": [
       "'/home/awoyelu12/GitHub/pinterest-data-processing-pipeline/batch_data'"
      ]
     },
     "execution_count": 9,
     "metadata": {},
     "output_type": "execute_result"
    }
   ],
   "source": [
    "import os\n"
   ]
  },
  {
   "cell_type": "code",
   "execution_count": 10,
   "metadata": {},
   "outputs": [],
   "source": [
    "\n",
    "\n",
    "os.chdir(\"/home/awoyelu12/GitHub/pinterest-data-processing-pipeline/\")\n"
   ]
  },
  {
   "cell_type": "code",
   "execution_count": 11,
   "metadata": {},
   "outputs": [
    {
     "data": {
      "text/plain": [
       "'/home/awoyelu12/GitHub/pinterest-data-processing-pipeline'"
      ]
     },
     "execution_count": 11,
     "metadata": {},
     "output_type": "execute_result"
    }
   ],
   "source": [
    "os.getcwd()"
   ]
  },
  {
   "cell_type": "code",
   "execution_count": 12,
   "metadata": {},
   "outputs": [],
   "source": [
    "my_list = [1,2,3,4]\n"
   ]
  },
  {
   "cell_type": "code",
   "execution_count": 27,
   "metadata": {},
   "outputs": [],
   "source": [
    "os.chdir(\"/home/awoyelu12/GitHub/pinterest-data-processing-pipeline\")\n"
   ]
  },
  {
   "cell_type": "code",
   "execution_count": 28,
   "metadata": {},
   "outputs": [],
   "source": [
    "os.chdir(os.getcwd ()+ '/batch_data')\n",
    "with open(os.getcwd () + '/data.json','w') as f:\n",
    "    json.dump(my_list,f)\n"
   ]
  },
  {
   "cell_type": "code",
   "execution_count": null,
   "metadata": {},
   "outputs": [],
   "source": [
    "#this code only bring one piece of data\n",
    "    os.chdir(\"/home/awoyelu12/GitHub/pinterest-data-processing-pipeline\")\n",
    "    os.chdir(os.getcwd () + '/batch_data')\n",
    "    with open(os.getcwd () + '/data.json','w') as f:\n",
    "        json.dump(message,f)"
   ]
  },
  {
   "cell_type": "code",
   "execution_count": 34,
   "metadata": {},
   "outputs": [
    {
     "data": {
      "text/plain": [
       "<Response [403]>"
      ]
     },
     "execution_count": 34,
     "metadata": {},
     "output_type": "execute_result"
    }
   ],
   "source": []
  },
  {
   "cell_type": "code",
   "execution_count": 1,
   "metadata": {},
   "outputs": [
    {
     "data": {
      "text/plain": [
       "'/home/awoyelu12/spark/spark-3.3.1-bin-hadoop3'"
      ]
     },
     "execution_count": 1,
     "metadata": {},
     "output_type": "execute_result"
    }
   ],
   "source": [
    "import findspark\n",
    "findspark.init()\n",
    "findspark.find()"
   ]
  },
  {
   "cell_type": "code",
   "execution_count": null,
   "metadata": {},
   "outputs": [],
   "source": [
    "df = spark.read.json(\"s3a://sparkbyexamples/json/simple_zipcodes.json\")\n",
    "df.printSchema()\n",
    "df.show(false)"
   ]
  }
 ],
 "metadata": {
  "kernelspec": {
   "display_name": "Python 3.9.2 64-bit",
   "language": "python",
   "name": "python3"
  },
  "language_info": {
   "codemirror_mode": {
    "name": "ipython",
    "version": 3
   },
   "file_extension": ".py",
   "mimetype": "text/x-python",
   "name": "python",
   "nbconvert_exporter": "python",
   "pygments_lexer": "ipython3",
   "version": "3.9.2"
  },
  "orig_nbformat": 4,
  "vscode": {
   "interpreter": {
    "hash": "916dbcbb3f70747c44a77c7bcd40155683ae19c65e1c03b4aa3499c5328201f1"
   }
  }
 },
 "nbformat": 4,
 "nbformat_minor": 2
}
