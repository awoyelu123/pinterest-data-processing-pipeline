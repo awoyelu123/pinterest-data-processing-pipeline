{
 "cells": [
  {
   "cell_type": "code",
   "execution_count": null,
   "metadata": {},
   "outputs": [],
   "source": []
  },
  {
   "cell_type": "code",
   "execution_count": null,
   "metadata": {},
   "outputs": [],
   "source": [
    "from kafka import KafkaAdminClient\n",
    "from kafka.admin import NewTopic\n",
    "from kafka.cluster import ClusterMetadata\n",
    "\n",
    "# Create a new Kafka client to adminstrate our Kafka broker\n",
    "admin_client = KafkaAdminClient(\n",
    "    bootstrap_servers=\"localhost:9092\", \n",
    "    client_id=\"Kafka Administrator\"\n",
    ")\n",
    "\n",
    "admin_client.list_topics()"
   ]
  },
  {
   "cell_type": "code",
   "execution_count": null,
   "metadata": {},
   "outputs": [],
   "source": [
    "admin_client.describe_topics(topics=[\"aicore_topic\"])"
   ]
  },
  {
   "cell_type": "code",
   "execution_count": null,
   "metadata": {},
   "outputs": [],
   "source": []
  },
  {
   "cell_type": "code",
   "execution_count": 1,
   "metadata": {},
   "outputs": [
    {
     "name": "stdout",
     "output_type": "stream",
     "text": [
      "Data sent to S3!\n"
     ]
    }
   ],
   "source": [
    "import credentials\n",
    "import boto3\n",
    "import json\n",
    "from botocore.client import Config\n",
    "'''\n",
    "Uploads raw data to S3\n",
    "'''\n",
    "ACCESS_SECRET_KEY = credentials.AWSSecretKey\n",
    "ACCESS_KEY_ID = credentials.AWSAccessKeyId\n",
    "BUCKET_NAME = 'pintrest-data-b5d598e8-12fd-488f-8e22-215f5936044'\n",
    "\n",
    "data=open('testing.json','rb')\n",
    "\n",
    "s3 = boto3.resource(\n",
    "    's3',\n",
    "    aws_access_key_id = ACCESS_KEY_ID,\n",
    "    aws_secret_access_key = ACCESS_SECRET_KEY,\n",
    "    config = Config(signature_version = 's3v4'))\n",
    "s3.Bucket(BUCKET_NAME).put_object(Key = 'testing.json', Body = data)\n",
    "print(\"Data sent to S3!\")"
   ]
  },
  {
   "cell_type": "code",
   "execution_count": 9,
   "metadata": {},
   "outputs": [
    {
     "data": {
      "text/plain": [
       "'/home/awoyelu12/GitHub/pinterest-data-processing-pipeline/batch_data'"
      ]
     },
     "execution_count": 9,
     "metadata": {},
     "output_type": "execute_result"
    }
   ],
   "source": [
    "import os\n"
   ]
  },
  {
   "cell_type": "code",
   "execution_count": 10,
   "metadata": {},
   "outputs": [],
   "source": [
    "\n",
    "\n",
    "os.chdir(\"/home/awoyelu12/GitHub/pinterest-data-processing-pipeline/\")\n"
   ]
  },
  {
   "cell_type": "code",
   "execution_count": 11,
   "metadata": {},
   "outputs": [
    {
     "data": {
      "text/plain": [
       "'/home/awoyelu12/GitHub/pinterest-data-processing-pipeline'"
      ]
     },
     "execution_count": 11,
     "metadata": {},
     "output_type": "execute_result"
    }
   ],
   "source": [
    "os.getcwd()"
   ]
  },
  {
   "cell_type": "code",
   "execution_count": 12,
   "metadata": {},
   "outputs": [],
   "source": [
    "my_list = [1,2,3,4]\n"
   ]
  },
  {
   "cell_type": "code",
   "execution_count": 27,
   "metadata": {},
   "outputs": [],
   "source": [
    "os.chdir(\"/home/awoyelu12/GitHub/pinterest-data-processing-pipeline\")\n"
   ]
  },
  {
   "cell_type": "code",
   "execution_count": 28,
   "metadata": {},
   "outputs": [],
   "source": [
    "os.chdir(os.getcwd ()+ '/batch_data')\n",
    "with open(os.getcwd () + '/data.json','w') as f:\n",
    "    json.dump(my_list,f)\n"
   ]
  },
  {
   "cell_type": "code",
   "execution_count": null,
   "metadata": {},
   "outputs": [],
   "source": [
    "#this code only bring one piece of data\n",
    "    os.chdir(\"/home/awoyelu12/GitHub/pinterest-data-processing-pipeline\")\n",
    "    os.chdir(os.getcwd () + '/batch_data')\n",
    "    with open(os.getcwd () + '/data.json','w') as f:\n",
    "        json.dump(message,f)"
   ]
  },
  {
   "cell_type": "code",
   "execution_count": 33,
   "metadata": {},
   "outputs": [
    {
     "data": {
      "text/plain": [
       "['event-fbe53c66-3442-4773-b19e-d3ec6f54dddf.json',\n",
       " 'event-9bf39437-42a6-4f02-99a0-9a0383d8cd70.json',\n",
       " 'event-1e1f0c8b-9fcf-460b-9154-c775827206eb.json',\n",
       " 'event-5b6d0913-25e4-43ab-839d-85d5516f78a4.json',\n",
       " 'event-ea760f71-febf-4023-b592-d17396659039.json',\n",
       " 'event-44662045-e891-4821-8a19-ebe7eedd371a.json',\n",
       " 'event-21b59ba9-829d-4c33-8c27-4cd4c56d26b8.json',\n",
       " 'event-c4bd2577-a7bb-4409-bb7a-17d5ed7e1cf1.json',\n",
       " 'event-8fb2af68-543b-4639-8119-de33d28706ed.json',\n",
       " 'event-b75b6f87-deb3-444f-b29e-ce9161b2df49.json',\n",
       " 'event-52fa3af5-24a4-4ccb-8f17-9c3eb12327ee.json',\n",
       " 'event-88f9227e-88d0-4b1c-b0be-bcfc3028b8e2.json',\n",
       " 'event-60693727-4927-4bd6-a8c5-096a392d63e6.json',\n",
       " 'event-46bd3f86-b09d-4e29-9033-7ff2df595e51.json',\n",
       " 'event-c6fa12f4-0d4a-4b07-a335-5bf9f37f8281.json',\n",
       " 'event-82e13a07-db99-43a3-b1c0-89a4b75821da.json',\n",
       " 'event-d31885b7-742a-4e2a-bbb7-ac5f9d334340.json',\n",
       " 'event-439cac4b-18e8-4aaa-88c5-edb26a701111.json',\n",
       " 'event-782dcbad-ff91-40a6-ba60-216efe29adb7.json',\n",
       " 'event-da8745a6-5160-46c4-877d-181d50a729fd.json',\n",
       " 'event-fa6e31a4-18c2-4eca-a6d8-e903eee2c2a4.json',\n",
       " 'event-610b3f83-9fe0-469d-946c-d16b577fca71.json',\n",
       " 'event-b8c63a95-6fe8-4d7f-9455-1eef3462fee0.json',\n",
       " 'event-86ed09a7-842d-496d-9501-010c654eb340.json',\n",
       " 'event-2b2abc85-fc51-481f-8ae6-17681993da28.json',\n",
       " 'event-927c4658-cc3f-4b92-9b5c-70743d0c238d.json',\n",
       " 'event-1a5050a4-ac82-472c-aeff-3457de8bbee9.json',\n",
       " 'event-24b1343c-4d86-4705-8ec9-7f1f2df2d77e.json',\n",
       " 'event-5df9f6e5-07f5-4ce8-a82e-96586bbc05d8.json',\n",
       " 'event-a584581c-1b38-4731-a1cc-f36115ecf229.json',\n",
       " 'event-9ac94307-bb27-410e-b554-0a0ab6c19847.json',\n",
       " 'event-4d2d79c6-9ca8-46c9-a38e-931c5d967804.json',\n",
       " 'event-bf275054-4464-448b-9143-1bf101aa366d.json',\n",
       " 'event-4a844b03-e161-47a1-904b-591eb5dc4fb1.json',\n",
       " 'event-efd5b2d6-2f69-40cd-bb59-41f18c089e52.json']"
      ]
     },
     "execution_count": 33,
     "metadata": {},
     "output_type": "execute_result"
    }
   ],
   "source": [
    "os.listdir(\"/home/awoyelu12/GitHub/pinterest-data-processing-pipeline/batch_data\")"
   ]
  },
  {
   "cell_type": "code",
   "execution_count": null,
   "metadata": {},
   "outputs": [],
   "source": []
  }
 ],
 "metadata": {
  "kernelspec": {
   "display_name": "Python 3.9.2 64-bit",
   "language": "python",
   "name": "python3"
  },
  "language_info": {
   "codemirror_mode": {
    "name": "ipython",
    "version": 3
   },
   "file_extension": ".py",
   "mimetype": "text/x-python",
   "name": "python",
   "nbconvert_exporter": "python",
   "pygments_lexer": "ipython3",
   "version": "3.9.2"
  },
  "orig_nbformat": 4,
  "vscode": {
   "interpreter": {
    "hash": "916dbcbb3f70747c44a77c7bcd40155683ae19c65e1c03b4aa3499c5328201f1"
   }
  }
 },
 "nbformat": 4,
 "nbformat_minor": 2
}
