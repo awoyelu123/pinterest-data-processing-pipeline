{
 "cells": [
  {
   "cell_type": "code",
   "execution_count": 13,
   "metadata": {},
   "outputs": [
    {
     "name": "stdout",
     "output_type": "stream",
     "text": [
      "{BrokerMetadata(nodeId='bootstrap-0', host='localhost', port=9092, rack=None)}\n",
      "True\n",
      "(2, 5, 0)\n"
     ]
    }
   ],
   "source": [
    "\n",
    "from kafka import KafkaClient\n",
    "from kafka import KafkaProducer\n",
    "from kafka.cluster import ClusterMetadata\n",
    "\n",
    "# Create a connection to retrieve metadata\n",
    "meta_cluster_conn = ClusterMetadata(\n",
    "    bootstrap_servers=\"localhost:9092\", # Specific the broker address to connect to\n",
    ")\n",
    "\n",
    "# retrieve metadata about the cluster\n",
    "print(meta_cluster_conn.brokers())\n",
    "\n",
    "\n",
    "# Create a connection to our KafkaBroker to check if it is running\n",
    "client_conn = KafkaClient(\n",
    "    bootstrap_servers=\"localhost:9092\", # Specific the broker address to connect to\n",
    "    client_id=\"Broker test\" # Create an id from this client for reference\n",
    ")\n",
    "\n",
    "# Check that the server is connected and running\n",
    "print(client_conn.bootstrap_connected())\n",
    "# Check our Kafka version number\n",
    "print(client_conn.check_version())\n",
    "\n"
   ]
  },
  {
   "cell_type": "code",
   "execution_count": 14,
   "metadata": {},
   "outputs": [
    {
     "data": {
      "text/plain": [
       "['MLdata',\n",
       " 'aicore_topic',\n",
       " 'MyFirstKafkaTopic',\n",
       " '__consumer_offsets',\n",
       " 'Retaildata',\n",
       " 'MLData']"
      ]
     },
     "execution_count": 14,
     "metadata": {},
     "output_type": "execute_result"
    }
   ],
   "source": [
    "from kafka import KafkaAdminClient\n",
    "from kafka.admin import NewTopic\n",
    "from kafka.cluster import ClusterMetadata\n",
    "\n",
    "# Create a new Kafka client to adminstrate our Kafka broker\n",
    "admin_client = KafkaAdminClient(\n",
    "    bootstrap_servers=\"localhost:9092\", \n",
    "    client_id=\"Kafka Administrator\"\n",
    ")\n",
    "\n",
    "admin_client.list_topics()"
   ]
  },
  {
   "cell_type": "code",
   "execution_count": 15,
   "metadata": {},
   "outputs": [
    {
     "data": {
      "text/plain": [
       "[{'error_code': 0,\n",
       "  'topic': 'aicore_topic',\n",
       "  'is_internal': False,\n",
       "  'partitions': [{'error_code': 0,\n",
       "    'partition': 0,\n",
       "    'leader': 0,\n",
       "    'replicas': [0],\n",
       "    'isr': [0],\n",
       "    'offline_replicas': []}]}]"
      ]
     },
     "execution_count": 15,
     "metadata": {},
     "output_type": "execute_result"
    }
   ],
   "source": [
    "admin_client.describe_topics(topics=[\"aicore_topic\"])"
   ]
  },
  {
   "cell_type": "code",
   "execution_count": 16,
   "metadata": {},
   "outputs": [],
   "source": [
    "import json\n",
    "from API.user_posting_emulation import run_infinite_post_data_loop"
   ]
  },
  {
   "cell_type": "code",
   "execution_count": null,
   "metadata": {},
   "outputs": [],
   "source": [
    "producer = KafkaProducer(\n",
    "    bootstrap_servers=\"localhost:9092\",\n",
    "    client_id=\"Pintrest data producer\",\n",
    "    value_serializer=lambda retailmessage: dumps(retailmessage).encode(\"ascii\"))\n",
    "\n",
    "producer.send(\"aicore_topic\",data)"
   ]
  }
 ],
 "metadata": {
  "kernelspec": {
   "display_name": "Python 3.9.2 64-bit",
   "language": "python",
   "name": "python3"
  },
  "language_info": {
   "codemirror_mode": {
    "name": "ipython",
    "version": 3
   },
   "file_extension": ".py",
   "mimetype": "text/x-python",
   "name": "python",
   "nbconvert_exporter": "python",
   "pygments_lexer": "ipython3",
   "version": "3.9.2"
  },
  "orig_nbformat": 4,
  "vscode": {
   "interpreter": {
    "hash": "916dbcbb3f70747c44a77c7bcd40155683ae19c65e1c03b4aa3499c5328201f1"
   }
  }
 },
 "nbformat": 4,
 "nbformat_minor": 2
}
